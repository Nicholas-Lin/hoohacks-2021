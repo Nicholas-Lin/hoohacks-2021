{
  "nbformat": 4,
  "nbformat_minor": 0,
  "metadata": {
    "colab": {
      "name": "EthereumPredictor.ipynb",
      "provenance": [],
      "collapsed_sections": [
        "2bbDN1oR5fFX"
      ],
      "toc_visible": true
    },
    "kernelspec": {
      "name": "python3",
      "display_name": "Python 3"
    },
    "language_info": {
      "name": "python"
    }
  },
  "cells": [
    {
      "cell_type": "markdown",
      "metadata": {
        "id": "XauKvulGEC2Y"
      },
      "source": [
        "# Into the Ether: An Ethereum Cryptocurrency Price Predictor\n",
        "\n",
        "### Using a linear regressor and a recurrent neural network to predict the value of Ethereum cryptocurrency\n",
        "\n",
        "HooHacks 2021\n",
        "\n",
        "Nicholas Lin, Neha Pattanaik, Raghav Khator, Justin Ngo"
      ]
    },
    {
      "cell_type": "markdown",
      "metadata": {
        "id": "2bbDN1oR5fFX"
      },
      "source": [
        "## Explanation\n",
        "\n",
        "For the hackathon, we decided to try to predict the price of Ethereum, the second largest Cryptocurrency on the market. Compared to Bitcoin, Ethereum is not a store of value but rather programmable money. The Ethereum network hosts smart contracts which allow for innovative uses of blockchain technology such as Decentralized Finance and Non-Fungible Tokens. Cryptocurrency is leading a revolution in the finance industry as we know it. In addition, our group shared an interest in the intersection of finance and technology. Therefore, we set out to predict the price of Ethereum using Machine Learning.\n",
        "\n",
        "For our project, we used the publicly available Ethereum dataset from https://www.cryptodatadownload.com/data/gemini/. The dataset contains the market data from the Gemini exchange."
      ]
    },
    {
      "cell_type": "code",
      "metadata": {
        "id": "VhuLcF-KrwmQ"
      },
      "source": [
        "import sklearn \n",
        "import numpy as np\n",
        "import pandas as pd\n",
        "import matplotlib.pyplot as plt\n",
        "\n",
        "from pandas.plotting import scatter_matrix # optional\n",
        "from sklearn.impute import SimpleImputer\n",
        "from sklearn.preprocessing import LabelEncoder\n",
        "from sklearn.preprocessing import OneHotEncoder\n",
        "from sklearn.pipeline import Pipeline\n",
        "from sklearn.preprocessing import StandardScaler\n",
        "pd.set_option('max_colwidth', 400)\n",
        "\n",
        "seed=42\n",
        "np.random.seed(seed)"
      ],
      "execution_count": null,
      "outputs": []
    },
    {
      "cell_type": "code",
      "metadata": {
        "id": "cXIAJerdtdOc"
      },
      "source": [
        "csv_path = \"gemini_ETHUSD_day.csv\"\n",
        "usd = pd.read_csv(csv_path)\n",
        "usd.rename(columns={'Unix Timestamp':'Unix_Timestamp'}, inplace=True)\n"
      ],
      "execution_count": null,
      "outputs": []
    },
    {
      "cell_type": "markdown",
      "metadata": {
        "id": "vasNmvCPjA6G"
      },
      "source": [
        "## Visualizing the Data\n",
        "\n",
        "The first step we took in creating our predictor was visualizing the data to gain a better understanding of the dataset.\n",
        "\n",
        "The variables are described below (prices are in USD):\n",
        "\n",
        "Unix Timestamp - Unix Timestamp of date of trade\n",
        "\n",
        "Date - Date in EST \n",
        "\n",
        "Symbol - Symbol is ETHUSD, meaning the data is for ETHUSD\n",
        "\n",
        "Open - The price of Ethereum at the opening of the market that day\n",
        "\n",
        "High - The highest price that Ethereum was traded for that day\n",
        "\n",
        "Low - The lowest price that Ethereum was traded for that day\n",
        "\n",
        "Close - The price of Ethereum at the closing time of the market that day\n",
        "\n",
        "Volume - The amount of Ethereum traded"
      ]
    },
    {
      "cell_type": "code",
      "metadata": {
        "colab": {
          "base_uri": "https://localhost:8080/",
          "height": 359
        },
        "id": "hDn1E3W96mMX",
        "outputId": "88a04280-bbd7-4006-8fd6-65b3baf92c70"
      },
      "source": [
        "usd = usd.sort_values(by=['Unix_Timestamp'], ascending=True)\n",
        "usd.head(10)"
      ],
      "execution_count": null,
      "outputs": [
        {
          "output_type": "execute_result",
          "data": {
            "text/html": [
              "<div>\n",
              "<style scoped>\n",
              "    .dataframe tbody tr th:only-of-type {\n",
              "        vertical-align: middle;\n",
              "    }\n",
              "\n",
              "    .dataframe tbody tr th {\n",
              "        vertical-align: top;\n",
              "    }\n",
              "\n",
              "    .dataframe thead th {\n",
              "        text-align: right;\n",
              "    }\n",
              "</style>\n",
              "<table border=\"1\" class=\"dataframe\">\n",
              "  <thead>\n",
              "    <tr style=\"text-align: right;\">\n",
              "      <th></th>\n",
              "      <th>Unix_Timestamp</th>\n",
              "      <th>Date</th>\n",
              "      <th>Symbol</th>\n",
              "      <th>Open</th>\n",
              "      <th>High</th>\n",
              "      <th>Low</th>\n",
              "      <th>Close</th>\n",
              "      <th>Volume</th>\n",
              "    </tr>\n",
              "  </thead>\n",
              "  <tbody>\n",
              "    <tr>\n",
              "      <th>1783</th>\n",
              "      <td>1.462766e+09</td>\n",
              "      <td>5/9/2016 4:00</td>\n",
              "      <td>ETHUSD</td>\n",
              "      <td>0.00</td>\n",
              "      <td>12.00</td>\n",
              "      <td>0.00</td>\n",
              "      <td>9.36</td>\n",
              "      <td>1376.614767</td>\n",
              "    </tr>\n",
              "    <tr>\n",
              "      <th>1782</th>\n",
              "      <td>1.462853e+09</td>\n",
              "      <td>5/10/2016 4:00</td>\n",
              "      <td>ETHUSD</td>\n",
              "      <td>9.36</td>\n",
              "      <td>9.95</td>\n",
              "      <td>9.36</td>\n",
              "      <td>9.74</td>\n",
              "      <td>764.628290</td>\n",
              "    </tr>\n",
              "    <tr>\n",
              "      <th>1781</th>\n",
              "      <td>1.462939e+09</td>\n",
              "      <td>5/11/2016 4:00</td>\n",
              "      <td>ETHUSD</td>\n",
              "      <td>9.74</td>\n",
              "      <td>10.47</td>\n",
              "      <td>9.69</td>\n",
              "      <td>10.45</td>\n",
              "      <td>3079.531401</td>\n",
              "    </tr>\n",
              "    <tr>\n",
              "      <th>1780</th>\n",
              "      <td>1.463026e+09</td>\n",
              "      <td>5/12/2016 4:00</td>\n",
              "      <td>ETHUSD</td>\n",
              "      <td>10.45</td>\n",
              "      <td>12.00</td>\n",
              "      <td>9.92</td>\n",
              "      <td>10.40</td>\n",
              "      <td>2061.012106</td>\n",
              "    </tr>\n",
              "    <tr>\n",
              "      <th>1779</th>\n",
              "      <td>1.463112e+09</td>\n",
              "      <td>5/13/2016 4:00</td>\n",
              "      <td>ETHUSD</td>\n",
              "      <td>10.40</td>\n",
              "      <td>11.59</td>\n",
              "      <td>10.20</td>\n",
              "      <td>10.50</td>\n",
              "      <td>1788.043079</td>\n",
              "    </tr>\n",
              "    <tr>\n",
              "      <th>1778</th>\n",
              "      <td>1.463198e+09</td>\n",
              "      <td>5/14/2016 4:00</td>\n",
              "      <td>ETHUSD</td>\n",
              "      <td>10.50</td>\n",
              "      <td>10.58</td>\n",
              "      <td>10.01</td>\n",
              "      <td>10.57</td>\n",
              "      <td>930.580655</td>\n",
              "    </tr>\n",
              "    <tr>\n",
              "      <th>1777</th>\n",
              "      <td>1.463285e+09</td>\n",
              "      <td>5/15/2016 4:00</td>\n",
              "      <td>ETHUSD</td>\n",
              "      <td>10.57</td>\n",
              "      <td>10.59</td>\n",
              "      <td>10.06</td>\n",
              "      <td>10.06</td>\n",
              "      <td>988.531975</td>\n",
              "    </tr>\n",
              "    <tr>\n",
              "      <th>1776</th>\n",
              "      <td>1.463371e+09</td>\n",
              "      <td>5/16/2016 4:00</td>\n",
              "      <td>ETHUSD</td>\n",
              "      <td>10.06</td>\n",
              "      <td>11.41</td>\n",
              "      <td>10.06</td>\n",
              "      <td>11.33</td>\n",
              "      <td>3725.048075</td>\n",
              "    </tr>\n",
              "    <tr>\n",
              "      <th>1775</th>\n",
              "      <td>1.463458e+09</td>\n",
              "      <td>5/17/2016 4:00</td>\n",
              "      <td>ETHUSD</td>\n",
              "      <td>11.33</td>\n",
              "      <td>13.06</td>\n",
              "      <td>11.28</td>\n",
              "      <td>13.04</td>\n",
              "      <td>8137.008235</td>\n",
              "    </tr>\n",
              "    <tr>\n",
              "      <th>1774</th>\n",
              "      <td>1.463544e+09</td>\n",
              "      <td>5/18/2016 4:00</td>\n",
              "      <td>ETHUSD</td>\n",
              "      <td>13.04</td>\n",
              "      <td>14.14</td>\n",
              "      <td>12.70</td>\n",
              "      <td>13.87</td>\n",
              "      <td>5531.485493</td>\n",
              "    </tr>\n",
              "  </tbody>\n",
              "</table>\n",
              "</div>"
            ],
            "text/plain": [
              "      Unix_Timestamp            Date  Symbol  ...    Low  Close       Volume\n",
              "1783    1.462766e+09   5/9/2016 4:00  ETHUSD  ...   0.00   9.36  1376.614767\n",
              "1782    1.462853e+09  5/10/2016 4:00  ETHUSD  ...   9.36   9.74   764.628290\n",
              "1781    1.462939e+09  5/11/2016 4:00  ETHUSD  ...   9.69  10.45  3079.531401\n",
              "1780    1.463026e+09  5/12/2016 4:00  ETHUSD  ...   9.92  10.40  2061.012106\n",
              "1779    1.463112e+09  5/13/2016 4:00  ETHUSD  ...  10.20  10.50  1788.043079\n",
              "1778    1.463198e+09  5/14/2016 4:00  ETHUSD  ...  10.01  10.57   930.580655\n",
              "1777    1.463285e+09  5/15/2016 4:00  ETHUSD  ...  10.06  10.06   988.531975\n",
              "1776    1.463371e+09  5/16/2016 4:00  ETHUSD  ...  10.06  11.33  3725.048075\n",
              "1775    1.463458e+09  5/17/2016 4:00  ETHUSD  ...  11.28  13.04  8137.008235\n",
              "1774    1.463544e+09  5/18/2016 4:00  ETHUSD  ...  12.70  13.87  5531.485493\n",
              "\n",
              "[10 rows x 8 columns]"
            ]
          },
          "metadata": {
            "tags": []
          },
          "execution_count": 72
        }
      ]
    },
    {
      "cell_type": "code",
      "metadata": {
        "id": "JPurNu5QuMBV",
        "colab": {
          "base_uri": "https://localhost:8080/",
          "height": 297
        },
        "outputId": "cd4fa9e5-10c5-4919-acc2-b52368107a6d"
      },
      "source": [
        "usd.describe()"
      ],
      "execution_count": null,
      "outputs": [
        {
          "output_type": "execute_result",
          "data": {
            "text/html": [
              "<div>\n",
              "<style scoped>\n",
              "    .dataframe tbody tr th:only-of-type {\n",
              "        vertical-align: middle;\n",
              "    }\n",
              "\n",
              "    .dataframe tbody tr th {\n",
              "        vertical-align: top;\n",
              "    }\n",
              "\n",
              "    .dataframe thead th {\n",
              "        text-align: right;\n",
              "    }\n",
              "</style>\n",
              "<table border=\"1\" class=\"dataframe\">\n",
              "  <thead>\n",
              "    <tr style=\"text-align: right;\">\n",
              "      <th></th>\n",
              "      <th>Unix_Timestamp</th>\n",
              "      <th>Open</th>\n",
              "      <th>High</th>\n",
              "      <th>Low</th>\n",
              "      <th>Close</th>\n",
              "      <th>Volume</th>\n",
              "    </tr>\n",
              "  </thead>\n",
              "  <tbody>\n",
              "    <tr>\n",
              "      <th>count</th>\n",
              "      <td>1.784000e+03</td>\n",
              "      <td>1784.000000</td>\n",
              "      <td>1784.000000</td>\n",
              "      <td>1784.000000</td>\n",
              "      <td>1784.000000</td>\n",
              "      <td>1.784000e+03</td>\n",
              "    </tr>\n",
              "    <tr>\n",
              "      <th>mean</th>\n",
              "      <td>1.046411e+12</td>\n",
              "      <td>317.779983</td>\n",
              "      <td>330.736015</td>\n",
              "      <td>303.450810</td>\n",
              "      <td>318.755230</td>\n",
              "      <td>3.375506e+04</td>\n",
              "    </tr>\n",
              "    <tr>\n",
              "      <th>std</th>\n",
              "      <td>7.369960e+11</td>\n",
              "      <td>355.446057</td>\n",
              "      <td>371.767386</td>\n",
              "      <td>337.274035</td>\n",
              "      <td>356.904823</td>\n",
              "      <td>6.299783e+04</td>\n",
              "    </tr>\n",
              "    <tr>\n",
              "      <th>min</th>\n",
              "      <td>1.462766e+09</td>\n",
              "      <td>0.000000</td>\n",
              "      <td>7.290000</td>\n",
              "      <td>0.000000</td>\n",
              "      <td>7.030000</td>\n",
              "      <td>0.000000e+00</td>\n",
              "    </tr>\n",
              "    <tr>\n",
              "      <th>25%</th>\n",
              "      <td>1.501279e+09</td>\n",
              "      <td>123.715000</td>\n",
              "      <td>128.195000</td>\n",
              "      <td>119.325000</td>\n",
              "      <td>124.172500</td>\n",
              "      <td>6.748886e+03</td>\n",
              "    </tr>\n",
              "    <tr>\n",
              "      <th>50%</th>\n",
              "      <td>1.539795e+12</td>\n",
              "      <td>214.950000</td>\n",
              "      <td>222.875000</td>\n",
              "      <td>206.465000</td>\n",
              "      <td>214.440000</td>\n",
              "      <td>1.696652e+04</td>\n",
              "    </tr>\n",
              "    <tr>\n",
              "      <th>75%</th>\n",
              "      <td>1.578302e+12</td>\n",
              "      <td>383.390000</td>\n",
              "      <td>394.357500</td>\n",
              "      <td>370.122500</td>\n",
              "      <td>383.780000</td>\n",
              "      <td>3.696830e+04</td>\n",
              "    </tr>\n",
              "    <tr>\n",
              "      <th>max</th>\n",
              "      <td>1.616820e+12</td>\n",
              "      <td>2016.340000</td>\n",
              "      <td>2040.000000</td>\n",
              "      <td>1899.000000</td>\n",
              "      <td>2016.340000</td>\n",
              "      <td>1.824554e+06</td>\n",
              "    </tr>\n",
              "  </tbody>\n",
              "</table>\n",
              "</div>"
            ],
            "text/plain": [
              "       Unix_Timestamp         Open  ...        Close        Volume\n",
              "count    1.784000e+03  1784.000000  ...  1784.000000  1.784000e+03\n",
              "mean     1.046411e+12   317.779983  ...   318.755230  3.375506e+04\n",
              "std      7.369960e+11   355.446057  ...   356.904823  6.299783e+04\n",
              "min      1.462766e+09     0.000000  ...     7.030000  0.000000e+00\n",
              "25%      1.501279e+09   123.715000  ...   124.172500  6.748886e+03\n",
              "50%      1.539795e+12   214.950000  ...   214.440000  1.696652e+04\n",
              "75%      1.578302e+12   383.390000  ...   383.780000  3.696830e+04\n",
              "max      1.616820e+12  2016.340000  ...  2016.340000  1.824554e+06\n",
              "\n",
              "[8 rows x 6 columns]"
            ]
          },
          "metadata": {
            "tags": []
          },
          "execution_count": 73
        }
      ]
    },
    {
      "cell_type": "code",
      "metadata": {
        "id": "iVCE7s8xvg2o",
        "colab": {
          "base_uri": "https://localhost:8080/",
          "height": 499
        },
        "outputId": "88b41297-65dd-4c19-d892-aaa49e9ef65b"
      },
      "source": [
        "plt.figure(figsize=(16,8))\n",
        "usd['Date'] = pd.to_datetime(usd['Date'])\n",
        "usd.index = usd['Date']\n",
        "plt.plot(usd['Close'], label='Close Price history')\n",
        "plt.xlabel('Time (Years)')\n",
        "plt.ylabel('Price (USD)')\n",
        "plt.title('Price of Ethereum Cryptocurrency over Time')"
      ],
      "execution_count": null,
      "outputs": [
        {
          "output_type": "execute_result",
          "data": {
            "text/plain": [
              "Text(0.5, 1.0, 'Price of Ethereum Cryptocurrency over Time')"
            ]
          },
          "metadata": {
            "tags": []
          },
          "execution_count": 74
        },
        {
          "output_type": "display_data",
          "data": {
            "image/png": "[encoded data removed]",
            "text/plain": [
              "<Figure size 1152x576 with 1 Axes>"
            ]
          },
          "metadata": {
            "tags": [],
            "needs_background": "light"
          }
        }
      ]
    },
    {
      "cell_type": "markdown",
      "metadata": {
        "id": "L0C_Oyu7JNwV"
      },
      "source": [
        "Our team played around with using the simple moving average (SMA) in our predictor. We used it to visualize the data at first but decided not to use it in our final predictor.\n",
        "\n",
        "The SMA_x takes the prices from the last x days and averages them out. Cryptocurrency prices can be volatile so the SMA smooths it out and can give us a simpler metric to compare prices to.\n",
        "\n",
        "The greater the x, the smoother the graph will be and the less volatile it will appear as we are averaging more days. It allows for less spikes in the prices and better general trends.\n",
        "\n",
        "For example, one trading technique used is comparing the SMA200 to the current price of bitcoin. If the opening price falls below the 200 day simple moving average, it means that the market has most likely entered the bear market and people are afraid. As a result, people are selling the coins and the price starts to fall as supply outweighs demand."
      ]
    },
    {
      "cell_type": "code",
      "metadata": {
        "id": "mMKQ-zAx3FzH"
      },
      "source": [
        "def sma(data, days):\n",
        "  name = \"SMA_\"+str(days)\n",
        "  cInd = data.columns.get_loc(\"Close\")\n",
        "  for i in range(0,data.shape[0]-days+1):\n",
        "    total = 0\n",
        "    for j in range(days):\n",
        "      total+=data.iloc[i+j,cInd]\n",
        "    data.loc[data.index[i+days-1], name] = np.round(((total)/days),2)\n",
        "    \n",
        "# sma(usd, 7)"
      ],
      "execution_count": null,
      "outputs": []
    },
    {
      "cell_type": "code",
      "metadata": {
        "colab": {
          "base_uri": "https://localhost:8080/"
        },
        "id": "-iDqgUJE8q16",
        "outputId": "e028c8cb-a226-4cc9-aba0-fce3288f975c"
      },
      "source": [
        "# We dropped the unix timestamp column which was just a number represented the time and the symbol was all ETHUSD for the pairing\n",
        "data = usd.copy()\n",
        "data = data.drop(columns=['Unix_Timestamp', 'Symbol'])\n",
        "data.columns\n",
        "#We installed fastai and used the add_datepart to add date features such as dayofweek and dayofyear\n",
        "from fastai.tabular import  add_datepart\n",
        "add_datepart(data, 'Date')\n",
        "data.drop('Elapsed', axis=1, inplace=True)  #elapsed will be the time stamp\n"
      ],
      "execution_count": null,
      "outputs": [
        {
          "output_type": "stream",
          "text": [
            "/usr/local/lib/python3.7/dist-packages/fastai/tabular/transform.py:63: FutureWarning: Series.dt.weekofyear and Series.dt.week have been deprecated.  Please use Series.dt.isocalendar().week instead.\n",
            "  for n in attr: df[prefix + n] = getattr(field.dt, n.lower())\n"
          ],
          "name": "stderr"
        }
      ]
    },
    {
      "cell_type": "markdown",
      "metadata": {
        "id": "P1Lwr-E1qOP5"
      },
      "source": [
        "## Linear Regression Short-Term Predictor\n",
        "\n",
        "We first used a linear regressor to try to predict the price. The regressor was not powerful enough of a model to provide good results."
      ]
    },
    {
      "cell_type": "code",
      "metadata": {
        "colab": {
          "base_uri": "https://localhost:8080/",
          "height": 810
        },
        "id": "QqHy-EkyS7-B",
        "outputId": "6274f402-bfe2-4c41-f10a-99be1f717eb7"
      },
      "source": [
        "# To predict prices without being influenced by opening price and high and low prices of the day as well as volume. All we will be predicting on is the date.\n",
        "newData = data.drop([\"Open\", \"High\", \"Low\", \"Volume\"], axis=1)\n",
        "newData"
      ],
      "execution_count": null,
      "outputs": [
        {
          "output_type": "execute_result",
          "data": {
            "text/html": [
              "<div>\n",
              "<style scoped>\n",
              "    .dataframe tbody tr th:only-of-type {\n",
              "        vertical-align: middle;\n",
              "    }\n",
              "\n",
              "    .dataframe tbody tr th {\n",
              "        vertical-align: top;\n",
              "    }\n",
              "\n",
              "    .dataframe thead th {\n",
              "        text-align: right;\n",
              "    }\n",
              "</style>\n",
              "<table border=\"1\" class=\"dataframe\">\n",
              "  <thead>\n",
              "    <tr style=\"text-align: right;\">\n",
              "      <th></th>\n",
              "      <th>Close</th>\n",
              "      <th>Year</th>\n",
              "      <th>Month</th>\n",
              "      <th>Week</th>\n",
              "      <th>Day</th>\n",
              "      <th>Dayofweek</th>\n",
              "      <th>Dayofyear</th>\n",
              "      <th>Is_month_end</th>\n",
              "      <th>Is_month_start</th>\n",
              "      <th>Is_quarter_end</th>\n",
              "      <th>Is_quarter_start</th>\n",
              "      <th>Is_year_end</th>\n",
              "      <th>Is_year_start</th>\n",
              "    </tr>\n",
              "    <tr>\n",
              "      <th>Date</th>\n",
              "      <th></th>\n",
              "      <th></th>\n",
              "      <th></th>\n",
              "      <th></th>\n",
              "      <th></th>\n",
              "      <th></th>\n",
              "      <th></th>\n",
              "      <th></th>\n",
              "      <th></th>\n",
              "      <th></th>\n",
              "      <th></th>\n",
              "      <th></th>\n",
              "      <th></th>\n",
              "    </tr>\n",
              "  </thead>\n",
              "  <tbody>\n",
              "    <tr>\n",
              "      <th>2016-05-09 04:00:00</th>\n",
              "      <td>9.36</td>\n",
              "      <td>2016</td>\n",
              "      <td>5</td>\n",
              "      <td>19</td>\n",
              "      <td>9</td>\n",
              "      <td>0</td>\n",
              "      <td>130</td>\n",
              "      <td>False</td>\n",
              "      <td>False</td>\n",
              "      <td>False</td>\n",
              "      <td>False</td>\n",
              "      <td>False</td>\n",
              "      <td>False</td>\n",
              "    </tr>\n",
              "    <tr>\n",
              "      <th>2016-05-10 04:00:00</th>\n",
              "      <td>9.74</td>\n",
              "      <td>2016</td>\n",
              "      <td>5</td>\n",
              "      <td>19</td>\n",
              "      <td>10</td>\n",
              "      <td>1</td>\n",
              "      <td>131</td>\n",
              "      <td>False</td>\n",
              "      <td>False</td>\n",
              "      <td>False</td>\n",
              "      <td>False</td>\n",
              "      <td>False</td>\n",
              "      <td>False</td>\n",
              "    </tr>\n",
              "    <tr>\n",
              "      <th>2016-05-11 04:00:00</th>\n",
              "      <td>10.45</td>\n",
              "      <td>2016</td>\n",
              "      <td>5</td>\n",
              "      <td>19</td>\n",
              "      <td>11</td>\n",
              "      <td>2</td>\n",
              "      <td>132</td>\n",
              "      <td>False</td>\n",
              "      <td>False</td>\n",
              "      <td>False</td>\n",
              "      <td>False</td>\n",
              "      <td>False</td>\n",
              "      <td>False</td>\n",
              "    </tr>\n",
              "    <tr>\n",
              "      <th>2016-05-12 04:00:00</th>\n",
              "      <td>10.40</td>\n",
              "      <td>2016</td>\n",
              "      <td>5</td>\n",
              "      <td>19</td>\n",
              "      <td>12</td>\n",
              "      <td>3</td>\n",
              "      <td>133</td>\n",
              "      <td>False</td>\n",
              "      <td>False</td>\n",
              "      <td>False</td>\n",
              "      <td>False</td>\n",
              "      <td>False</td>\n",
              "      <td>False</td>\n",
              "    </tr>\n",
              "    <tr>\n",
              "      <th>2016-05-13 04:00:00</th>\n",
              "      <td>10.50</td>\n",
              "      <td>2016</td>\n",
              "      <td>5</td>\n",
              "      <td>19</td>\n",
              "      <td>13</td>\n",
              "      <td>4</td>\n",
              "      <td>134</td>\n",
              "      <td>False</td>\n",
              "      <td>False</td>\n",
              "      <td>False</td>\n",
              "      <td>False</td>\n",
              "      <td>False</td>\n",
              "      <td>False</td>\n",
              "    </tr>\n",
              "    <tr>\n",
              "      <th>...</th>\n",
              "      <td>...</td>\n",
              "      <td>...</td>\n",
              "      <td>...</td>\n",
              "      <td>...</td>\n",
              "      <td>...</td>\n",
              "      <td>...</td>\n",
              "      <td>...</td>\n",
              "      <td>...</td>\n",
              "      <td>...</td>\n",
              "      <td>...</td>\n",
              "      <td>...</td>\n",
              "      <td>...</td>\n",
              "      <td>...</td>\n",
              "    </tr>\n",
              "    <tr>\n",
              "      <th>2021-03-23 04:00:00</th>\n",
              "      <td>1679.83</td>\n",
              "      <td>2021</td>\n",
              "      <td>3</td>\n",
              "      <td>12</td>\n",
              "      <td>23</td>\n",
              "      <td>1</td>\n",
              "      <td>82</td>\n",
              "      <td>False</td>\n",
              "      <td>False</td>\n",
              "      <td>False</td>\n",
              "      <td>False</td>\n",
              "      <td>False</td>\n",
              "      <td>False</td>\n",
              "    </tr>\n",
              "    <tr>\n",
              "      <th>2021-03-24 04:00:00</th>\n",
              "      <td>1572.81</td>\n",
              "      <td>2021</td>\n",
              "      <td>3</td>\n",
              "      <td>12</td>\n",
              "      <td>24</td>\n",
              "      <td>2</td>\n",
              "      <td>83</td>\n",
              "      <td>False</td>\n",
              "      <td>False</td>\n",
              "      <td>False</td>\n",
              "      <td>False</td>\n",
              "      <td>False</td>\n",
              "      <td>False</td>\n",
              "    </tr>\n",
              "    <tr>\n",
              "      <th>2021-03-25 04:00:00</th>\n",
              "      <td>1620.62</td>\n",
              "      <td>2021</td>\n",
              "      <td>3</td>\n",
              "      <td>12</td>\n",
              "      <td>25</td>\n",
              "      <td>3</td>\n",
              "      <td>84</td>\n",
              "      <td>False</td>\n",
              "      <td>False</td>\n",
              "      <td>False</td>\n",
              "      <td>False</td>\n",
              "      <td>False</td>\n",
              "      <td>False</td>\n",
              "    </tr>\n",
              "    <tr>\n",
              "      <th>2021-03-26 04:00:00</th>\n",
              "      <td>1694.48</td>\n",
              "      <td>2021</td>\n",
              "      <td>3</td>\n",
              "      <td>12</td>\n",
              "      <td>26</td>\n",
              "      <td>4</td>\n",
              "      <td>85</td>\n",
              "      <td>False</td>\n",
              "      <td>False</td>\n",
              "      <td>False</td>\n",
              "      <td>False</td>\n",
              "      <td>False</td>\n",
              "      <td>False</td>\n",
              "    </tr>\n",
              "    <tr>\n",
              "      <th>2021-03-27 04:00:00</th>\n",
              "      <td>1714.55</td>\n",
              "      <td>2021</td>\n",
              "      <td>3</td>\n",
              "      <td>12</td>\n",
              "      <td>27</td>\n",
              "      <td>5</td>\n",
              "      <td>86</td>\n",
              "      <td>False</td>\n",
              "      <td>False</td>\n",
              "      <td>False</td>\n",
              "      <td>False</td>\n",
              "      <td>False</td>\n",
              "      <td>False</td>\n",
              "    </tr>\n",
              "  </tbody>\n",
              "</table>\n",
              "<p>1784 rows × 13 columns</p>\n",
              "</div>"
            ],
            "text/plain": [
              "                       Close  Year  ...  Is_year_end  Is_year_start\n",
              "Date                                ...                            \n",
              "2016-05-09 04:00:00     9.36  2016  ...        False          False\n",
              "2016-05-10 04:00:00     9.74  2016  ...        False          False\n",
              "2016-05-11 04:00:00    10.45  2016  ...        False          False\n",
              "2016-05-12 04:00:00    10.40  2016  ...        False          False\n",
              "2016-05-13 04:00:00    10.50  2016  ...        False          False\n",
              "...                      ...   ...  ...          ...            ...\n",
              "2021-03-23 04:00:00  1679.83  2021  ...        False          False\n",
              "2021-03-24 04:00:00  1572.81  2021  ...        False          False\n",
              "2021-03-25 04:00:00  1620.62  2021  ...        False          False\n",
              "2021-03-26 04:00:00  1694.48  2021  ...        False          False\n",
              "2021-03-27 04:00:00  1714.55  2021  ...        False          False\n",
              "\n",
              "[1784 rows x 13 columns]"
            ]
          },
          "metadata": {
            "tags": []
          },
          "execution_count": 77
        }
      ]
    },
    {
      "cell_type": "code",
      "metadata": {
        "id": "Q_BCaaqDGPZN"
      },
      "source": [
        "# We split the data into training and validation sets.\n",
        "train = newData[:1500]\n",
        "valid = newData[1500:]"
      ],
      "execution_count": null,
      "outputs": []
    },
    {
      "cell_type": "code",
      "metadata": {
        "colab": {
          "base_uri": "https://localhost:8080/"
        },
        "id": "OhGtcD4PH6BB",
        "outputId": "e91eccd9-588d-44b4-a3c4-6c571e1ed1ad"
      },
      "source": [
        "x_train = train.drop('Close', axis=1)\n",
        "y_train = train['Close']\n",
        "x_valid = valid.drop('Close', axis=1)\n",
        "y_valid = valid['Close']\n",
        "\n",
        "#implement linear regression, we do not expect to be that great as it is a fairly limited regressor\n",
        "from sklearn.linear_model import LinearRegression\n",
        "model = LinearRegression()\n",
        "model.fit(x_train,y_train)"
      ],
      "execution_count": null,
      "outputs": [
        {
          "output_type": "execute_result",
          "data": {
            "text/plain": [
              "LinearRegression(copy_X=True, fit_intercept=True, n_jobs=None, normalize=False)"
            ]
          },
          "metadata": {
            "tags": []
          },
          "execution_count": 79
        }
      ]
    },
    {
      "cell_type": "code",
      "metadata": {
        "colab": {
          "base_uri": "https://localhost:8080/"
        },
        "id": "RqxaYmeBIMbz",
        "outputId": "502a57a2-9471-494b-b2a0-ec0edfc15b07"
      },
      "source": [
        "#make predictions and find the rmse\n",
        "preds = model.predict(x_valid)\n",
        "rms=np.sqrt(np.mean(np.power((np.array(y_valid)-np.array(preds)),2)))\n",
        "rms"
      ],
      "execution_count": null,
      "outputs": [
        {
          "output_type": "execute_result",
          "data": {
            "text/plain": [
              "704.1308612622254"
            ]
          },
          "metadata": {
            "tags": []
          },
          "execution_count": 80
        }
      ]
    },
    {
      "cell_type": "code",
      "metadata": {
        "id": "Xqbp69meInsi",
        "colab": {
          "base_uri": "https://localhost:8080/",
          "height": 494
        },
        "outputId": "09e42fed-19ca-49ff-eed7-61654a32f973"
      },
      "source": [
        "# We graphed the training data in blue, the validation data in orange, and our \n",
        "# predictions in green. As you can see, it was not great at predicting the price\n",
        "# of Ethereum in the long-term.\n",
        "predictions = pd.DataFrame()\n",
        "predictions[\"Close\"] = valid[\"Close\"]\n",
        "predictions['Predictions'] = 0\n",
        "predictions['Predictions'] = preds\n",
        "plt.figure(figsize=(16,8))\n",
        "\n",
        "\n",
        "plt.plot(train['Close'])\n",
        "plt.plot(predictions[['Close', 'Predictions']])"
      ],
      "execution_count": null,
      "outputs": [
        {
          "output_type": "execute_result",
          "data": {
            "text/plain": [
              "[<matplotlib.lines.Line2D at 0x7f1d552a66d0>,\n",
              " <matplotlib.lines.Line2D at 0x7f1d552a68d0>]"
            ]
          },
          "metadata": {
            "tags": []
          },
          "execution_count": 81
        },
        {
          "output_type": "display_data",
          "data": {
            "image/png": "[encoded data removed]",
            "text/plain": [
              "<Figure size 1152x576 with 1 Axes>"
            ]
          },
          "metadata": {
            "tags": [],
            "needs_background": "light"
          }
        }
      ]
    },
    {
      "cell_type": "markdown",
      "metadata": {
        "id": "NAJx0DsFqbkI"
      },
      "source": [
        "## Recurrent Neural Network Predictor\n",
        "\n",
        "For this part, we search up common ways to predict the prices of stocks and we found that a class of Recurrent Neural Network called Long Short-Term Memory which specializes in prediction problems relating to chronological data. We followed a tutorial to implement the neural network and applied it to the ethereum price. As you can see, the predictor worked fairly well but did not predict the all time highs ethereum reached this past year."
      ]
    },
    {
      "cell_type": "code",
      "metadata": {
        "id": "BOSM-_JYVwwx"
      },
      "source": [
        "from sklearn.preprocessing import StandardScaler\n",
        "from keras.models import Sequential\n",
        "from keras.layers import Dense, Dropout, LSTM"
      ],
      "execution_count": null,
      "outputs": []
    },
    {
      "cell_type": "code",
      "metadata": {
        "id": "7KmKoL_AX4cy"
      },
      "source": [
        "cols = 13\n",
        "dataset = newData.values\n",
        "# First, scale the data\n",
        "scaler = StandardScaler()\n",
        "scaled_data = scaler.fit_transform(dataset)\n",
        "# Split the data into train and ytrain in overlapping chunks\n",
        "x_train, y_train = np.array(x_train), np.array(y_train)\n",
        "x_train, y_train = [], []\n",
        "for i in range(60,len(train)):\n",
        "    x_train.append(scaled_data[i-60:i,:])\n",
        "    y_train.append(scaled_data[i,0])\n",
        "x_train, y_train = np.array(x_train), np.array(y_train)\n",
        "x_train = np.reshape(x_train, (x_train.shape[0],x_train.shape[1],cols))"
      ],
      "execution_count": null,
      "outputs": []
    },
    {
      "cell_type": "code",
      "metadata": {
        "id": "bnws4jvnVz6Z"
      },
      "source": [
        "# We built the model as specified below.\n",
        "model = Sequential()\n",
        "model.add(LSTM(units=50, return_sequences=True, input_shape=(x_train.shape[1],cols)))\n",
        "model.add(LSTM(units=50))\n",
        "model.add(Dense(1))"
      ],
      "execution_count": null,
      "outputs": []
    },
    {
      "cell_type": "code",
      "metadata": {
        "id": "J3npaNR_XoBy",
        "colab": {
          "base_uri": "https://localhost:8080/"
        },
        "outputId": "b6b31eb1-71dd-49f5-d7dd-22b3f0d62c77"
      },
      "source": [
        "#We trained the model on the training data\n",
        "model.compile(loss='mean_squared_error', optimizer='adam')\n",
        "model.fit(x_train, y_train, epochs=1, batch_size=1, verbose=2)"
      ],
      "execution_count": null,
      "outputs": [
        {
          "output_type": "stream",
          "text": [
            "1440/1440 - 36s - loss: 0.0358\n"
          ],
          "name": "stdout"
        },
        {
          "output_type": "execute_result",
          "data": {
            "text/plain": [
              "<tensorflow.python.keras.callbacks.History at 0x7f1d5894b210>"
            ]
          },
          "metadata": {
            "tags": []
          },
          "execution_count": 67
        }
      ]
    },
    {
      "cell_type": "code",
      "metadata": {
        "id": "85qRZ8-MY0cR"
      },
      "source": [
        "# This is building the validation set.\n",
        "inputs = newData[len(newData) - len(valid) - 60:].values\n",
        "inputs = inputs.reshape(-1,cols)\n",
        "inputs  = scaler.transform(inputs)\n",
        "\n",
        "X_test = []\n",
        "for i in range(60,inputs.shape[0]):\n",
        "    X_test.append(inputs[i-60:i,:])\n",
        "X_test = np.array(X_test)\n",
        "\n",
        "#use the model to predict the prices\n",
        "X_test = np.reshape(X_test, (X_test.shape[0],X_test.shape[1],cols))\n",
        "closing_price = model.predict(X_test)\n",
        "#closing_price = scaler.inverse_transform(closing_price)\n",
        "#Inverse transforming the scaled price back to the original scale.\n",
        "closeMean = 318.755230\n",
        "closeSTD = 356.904823\n",
        "preds = closing_price*closeSTD+closeMean"
      ],
      "execution_count": null,
      "outputs": []
    },
    {
      "cell_type": "code",
      "metadata": {
        "id": "SsALfptMcLEI",
        "colab": {
          "base_uri": "https://localhost:8080/",
          "height": 494
        },
        "outputId": "9745c25f-a18c-4abe-e624-c5ed17538d8e"
      },
      "source": [
        "# We graphed the training data in blue, the validation data in orange, and our \n",
        "# predictions in green. As you can see, it was much better predicting the price.\n",
        "predictions = pd.DataFrame()\n",
        "predictions[\"Close\"] = valid[\"Close\"]\n",
        "predictions['Predictions'] = 0\n",
        "predictions['Predictions'] = preds\n",
        "plt.figure(figsize=(16,8))\n",
        "\n",
        "\n",
        "plt.plot(train['Close'])\n",
        "plt.plot(predictions[['Close', 'Predictions']])"
      ],
      "execution_count": null,
      "outputs": [
        {
          "output_type": "execute_result",
          "data": {
            "text/plain": [
              "[<matplotlib.lines.Line2D at 0x7f1d55c02c50>,\n",
              " <matplotlib.lines.Line2D at 0x7f1d55c02e50>]"
            ]
          },
          "metadata": {
            "tags": []
          },
          "execution_count": 69
        },
        {
          "output_type": "display_data",
          "data": {
            "image/png": "[encoded data removed]",
            "text/plain": [
              "<Figure size 1152x576 with 1 Axes>"
            ]
          },
          "metadata": {
            "tags": [],
            "needs_background": "light"
          }
        }
      ]
    },
    {
      "cell_type": "markdown",
      "metadata": {
        "id": "PfgZ8haBzu9w"
      },
      "source": [
        "## Conclusion\n",
        "\n",
        "In future iterations of the project, we could improve our predictor by using more features to train our neural network. We hope to continue advancing the model to begin forecasting the future prices and implementing the Gemini Exchange's API so our model can begin trading with a small amount of money such as a $100. None of the team had used a recurrent neural network before so we had to search up a tutorial on how to do it. We were very suprised at the accuracy of the neural network and were astonished that it was able to predict a general trend not many people saw coming (the past year's cryptocurrency boom). We learned that it is important to scale our features for the recurrent neural network and that a recurrent neural network is a very useful tool for predicting values with chronological data."
      ]
    }
  ]
}